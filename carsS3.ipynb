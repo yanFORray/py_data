{
  "nbformat": 4,
  "nbformat_minor": 0,
  "metadata": {
    "colab": {
      "provenance": [],
      "authorship_tag": "ABX9TyM3eHVn7w5oXbu9hL6KNklA",
      "include_colab_link": true
    },
    "kernelspec": {
      "name": "python3",
      "display_name": "Python 3"
    },
    "language_info": {
      "name": "python"
    }
  },
  "cells": [
    {
      "cell_type": "markdown",
      "metadata": {
        "id": "view-in-github",
        "colab_type": "text"
      },
      "source": [
        "<a href=\"https://colab.research.google.com/github/yanFORray/py_data/blob/main/carsS3.ipynb\" target=\"_parent\"><img src=\"https://colab.research.google.com/assets/colab-badge.svg\" alt=\"Open In Colab\"/></a>"
      ]
    },
    {
      "cell_type": "code",
      "source": [
        "import csv\n",
        "from collections import defaultdict\n",
        "from pyhive import hive"
      ],
      "metadata": {
        "id": "k0bPKh_fX_T8"
      },
      "execution_count": 46,
      "outputs": []
    },
    {
      "cell_type": "code",
      "source": [
        "# Загрузка данных из CSV-файла\n",
        "def load_data(file_path):\n",
        "    with open(file_path, \"r\") as file:\n",
        "        reader = csv.DictReader(file)\n",
        "        data = [row for row in reader]\n",
        "    return data"
      ],
      "metadata": {
        "id": "DLmN8IibYBI8"
      },
      "execution_count": 47,
      "outputs": []
    },
    {
      "cell_type": "code",
      "source": [
        "# Вычисление средней цены для каждой марки\n",
        "def calculate_avg_prices(data):\n",
        "    prices_by_brand = defaultdict(list)\n",
        "    for row in data:\n",
        "        brand = row[\"Make\"]\n",
        "        price = float(row[\"MSRP\"])\n",
        "        prices_by_brand[brand].append(price)\n",
        "\n",
        "    avg_prices_by_brand = {brand: sum(prices) / len(prices) for brand, prices in prices_by_brand.items()}\n",
        "    return avg_prices_by_brand"
      ],
      "metadata": {
        "id": "FFKIQDpdYIgx"
      },
      "execution_count": 48,
      "outputs": []
    },
    {
      "cell_type": "code",
      "source": [
        "# Сохранение результатов в новый CSV-файл\n",
        "def save_to_csv(data, output_filename):\n",
        "    with open(output_filename, \"w\", newline='') as file:\n",
        "        writer = csv.writer(file)\n",
        "        writer.writerow([\"Brand\", \"Avg Price\"])\n",
        "        for brand, avg_price in data.items():\n",
        "            writer.writerow([brand, avg_price])\n",
        "\n",
        "if __name__ == \"__main__\":\n",
        "    file_path = '/content/datacar.csv'\n",
        "    data = load_data(file_path)\n",
        "\n",
        "    avg_prices_by_brand = calculate_avg_prices(data)\n",
        "\n",
        "    output_filename = \"/content/avg_prices_by_brand.csv\"\n",
        "    save_to_csv(avg_prices_by_brand, output_filename)\n"
      ],
      "metadata": {
        "id": "U3NfF_YBVBed"
      },
      "execution_count": 49,
      "outputs": []
    },
    {
      "cell_type": "code",
      "source": [
        "\n",
        "# Функция для загрузки данных в Hive\n",
        "def load_into_hive(csv_file, table_name, host_name, port):\n",
        "    conn = hive.Connection(host=host_name, port=port)\n",
        "\n",
        "    cursor = conn.cursor()\n",
        "    cursor.execute(f\"CREATE TABLE IF NOT EXISTS {table_name} (brand STRING, avg_price FLOAT)\")\n",
        "    cursor.execute(f\"LOAD DATA LOCAL INPATH '{csv_file}' OVERWRITE INTO TABLE {table_name}\")\n",
        "\n",
        "# Функция для анализа данных в Hive\n",
        "def analyze_data_in_hive(table_name, host_name, port):\n",
        "    conn = hive.Connection(host=host_name, port=port)\n",
        "\n",
        "    cursor = conn.cursor()\n",
        "    cursor.execute(f\"SELECT brand, MIN(avg_price) AS min_price, MAX(avg_price) AS max_price FROM {table_name} GROUP BY brand\")\n",
        "\n",
        "    result = cursor.fetchall()\n",
        "    for row in result:\n",
        "        print(row)\n",
        "\n",
        "if __name__ == \"__main__\":\n",
        "    file_path = '/content/datacar.csv'\n",
        "    data = load_data(file_path)\n",
        "\n",
        "    avg_prices_by_brand = calculate_avg_prices(data)\n",
        "\n",
        "    output_filename = \"/content/avg_prices_by_brand.csv\"\n",
        "    save_to_csv(avg_prices_by_brand, output_filename)  # Сохраняем в файл CSV\n",
        "\n",
        "    table_name = 'car_prices'\n",
        "    host_name = 'your_hive_host'\n",
        "    port = 10000\n",
        "\n",
        "    load_into_hive(output_filename, table_name, host_name, port)  # Загружаем CSV-файл в Hive\n",
        "    analyze_data_in_hive(table_name, host_name, port)  # Анализируем данные в Hive"
      ],
      "metadata": {
        "id": "Gq4NVPJOdjkF"
      },
      "execution_count": null,
      "outputs": []
    }
  ]
}